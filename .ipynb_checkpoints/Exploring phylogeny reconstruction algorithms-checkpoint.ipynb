{
 "cells": [
  {
   "cell_type": "code",
   "execution_count": 1,
   "metadata": {},
   "outputs": [],
   "source": [
    "%matplotlib inline\n",
    "import numpy as np\n",
    "\n",
    "np.set_printoptions(precision=1)"
   ]
  },
  {
   "cell_type": "markdown",
   "metadata": {},
   "source": [
    "# A distance matrix class"
   ]
  },
  {
   "cell_type": "code",
   "execution_count": 3,
   "metadata": {},
   "outputs": [
    {
     "name": "stdout",
     "output_type": "stream",
     "text": [
      "Overwriting phylogeny/core/distance.py\n"
     ]
    }
   ],
   "source": [
    "%%writefile phylogeny/core/distance.py\n",
    "import numpy as np\n",
    "import itertools as itr\n",
    "from .fpc import four_point_condition\n",
    "\n",
    "def simple_distance(seq_1, seq_2):\n",
    "    \"From two binary sequences, compute their distance.\"\n",
    "    differences = (1 for a,b in zip(seq_1, seq_2) if a != b)\n",
    "    return sum(differences)\n",
    "# ---\n",
    "\n",
    "class DistanceMatrix(np.ndarray):\n",
    "    \"\"\"Wrapper for the Numpy array class with methods proper of a \n",
    "    distance matrix.\n",
    "    \n",
    "    For documentation for the Numpy array, read the `Numpy documentation`_.\n",
    "    \n",
    "    .. _Numpy documentation:\n",
    "       http://www.numpy.org/\n",
    "    \"\"\"\n",
    "    \n",
    "    def __new__(cls, data, names=None):\n",
    "        \"\"\"        \n",
    "        Args:\n",
    "            data (iterable): Existing array.\n",
    "            names (int|str, optional): Names of the nodes.\n",
    "        \"\"\"\n",
    "        matrix = np.asarray(data).view(cls)\n",
    "        \n",
    "        if not names:\n",
    "            n = len(matrix) \n",
    "            names = range(n)\n",
    "            \n",
    "        matrix.names = tuple(names)\n",
    "        matrix.idx = {name:i for i,name in enumerate(matrix.names)}\n",
    "        \n",
    "        return matrix\n",
    "    # ---\n",
    "    \n",
    "    def __array_finalize__(self, obj):\n",
    "        if obj is None: \n",
    "            # (we're in the middle of the __new__\n",
    "            # constructor, and self.names, self.idx \n",
    "            # will be set when we return to\n",
    "            # __new__)\n",
    "            return\n",
    "        self.names = None\n",
    "        self.idx = None\n",
    "    # ---\n",
    "    \n",
    "    @classmethod\n",
    "    def zeros(cls, n, names=None):\n",
    "        \"\"\"Return a zeroed n by n matrix\"\"\"\n",
    "        return cls(data=np.zeros((n,n)), \n",
    "                   names=names)\n",
    "    # ---\n",
    "    \n",
    "    @classmethod\n",
    "    def from_sequences(cls, sequences, distance_fn=simple_distance):\n",
    "        \"From the given sequences, compute pairwise edit distances.\"\n",
    "        # Get all the pairs\n",
    "        pairs = itr.combinations(sequences, 2)\n",
    "        # Compute distances\n",
    "        distances = cls.zeros(len(sequences), names=sequences.keys())\n",
    "        for i,j in pairs:\n",
    "            d_ij = distance_fn(sequences[i], sequences[j])\n",
    "            distances.set((i,j), d_ij)\n",
    "        return distances\n",
    "    # ---\n",
    "    \n",
    "    def __repr__(self):\n",
    "        return (  f\"{super().__repr__()[:-1]}, names={self.names})\" )\n",
    "    # ---\n",
    "    \n",
    "    def is_additive(self, tolerance=1e-2):\n",
    "        \"\"\"Is the distances matrix additive?\n",
    "\n",
    "        Check the four point condition on each quartet of\n",
    "        indices of the matrix.\n",
    "        \"\"\"\n",
    "        n = len(self)\n",
    "        quartets = list(itr.combinations(range(n), 4))\n",
    "\n",
    "        return all(four_point_condition(self, q, tolerance) \n",
    "                       for q in quartets)\n",
    "    # ---   \n",
    "    \n",
    "    def get(self, item):\n",
    "        \"Get item by name.\"\n",
    "        i,j = item\n",
    "        idx = self.idx\n",
    "        return self[idx[i], idx[j]]\n",
    "    # ---\n",
    "    \n",
    "    def set(self, item, value):\n",
    "        \"Set item by name.\"\n",
    "        i,j = item\n",
    "        idx = self.idx\n",
    "        self[idx[i], idx[j]] = value\n",
    "        self[idx[j], idx[i]] = value\n",
    "    # ---\n",
    "    \n",
    "    def name_all(self):\n",
    "        names = self.names\n",
    "        n = len(names)\n",
    "        for i in range(n):\n",
    "            for j in range(i+1, n):\n",
    "                yield (names[i],names[j]), self[i,j]\n",
    "    # ---\n",
    "        \n",
    "# --- DistanceMatrix"
   ]
  },
  {
   "cell_type": "markdown",
   "metadata": {},
   "source": [
    "# A tree class adapted for reconstruction purposes"
   ]
  },
  {
   "cell_type": "code",
   "execution_count": 12,
   "metadata": {},
   "outputs": [
    {
     "name": "stdout",
     "output_type": "stream",
     "text": [
      "Overwriting phylogeny/core/tree.py\n"
     ]
    }
   ],
   "source": [
    "%%writefile phylogeny/core/tree.py\n",
    "import ete3\n",
    "import numpy as np\n",
    "import itertools as itr\n",
    "from .distance import DistanceMatrix\n",
    "\n",
    "class Tree(ete3.Tree):\n",
    "    \"\"\"Wrapper for the ETE Tree class adapted for the \n",
    "    purposes of phylogeny reconstruction.\n",
    "    \n",
    "    For documentation for the ETE Tree, read the `ETE3 documentation`_.\n",
    "    \n",
    "    .. _ETE3 documentation:\n",
    "       http://etetoolkit.org/docs/latest/tutorial/index.html\n",
    "    \"\"\"\n",
    "    \n",
    "    def __init__(self, *args, leaves=None, **kwargs):\n",
    "        \"\"\"\n",
    "        Args:\n",
    "            leaves (int, optional): Populate randomly with this number of leaves.\n",
    "        \"\"\"\n",
    "        super().__init__(*args, **kwargs)\n",
    "        \n",
    "        # Populate until you have as many leaves\n",
    "        if leaves:\n",
    "            self.populate(leaves)\n",
    "    # ---\n",
    "    \n",
    "    def __repr__(self):\n",
    "        return (  self.__class__.__name__\n",
    "                + \"('\" + self.write(features=[]) + \"')\" )\n",
    "    # ---\n",
    "    \n",
    "    @classmethod\n",
    "    def from_tree(cls, tree, *args, **kwargs):\n",
    "        \"Create a new instance based on an existing tree.\"\n",
    "        return cls(newick=tree.write(features=[]))\n",
    "    # ---\n",
    "    \n",
    "    @classmethod\n",
    "    def from_newick(cls, newick, *args, **kwargs):\n",
    "        \"Read from the newick representation.\"\n",
    "        return cls(newick, *args, **kwargs)\n",
    "    # ---\n",
    "    \n",
    "    @classmethod\n",
    "    def from_quartet(cls, quartet, names=None):\n",
    "        \"Transform the quartet structure to a tree.\"\n",
    "        # Disassemble the quartet structure\n",
    "        ((a,b),(c,d)) = quartet\n",
    "        if names is None:\n",
    "            names = { i:i for i in [a,b,c,d] }\n",
    "        # Assemble the pairs of siblings\n",
    "        ab_cherry = cls.make_cherry_of(names[a],names[b])\n",
    "        cd_cherry = cls.make_cherry_of(names[c],names[d])\n",
    "        # Assemble the subtrees\n",
    "        quartet_tree = cls.join_trees(ab_cherry, cd_cherry)\n",
    "\n",
    "        return quartet_tree\n",
    "    # ---\n",
    "    \n",
    "    @classmethod\n",
    "    def join_trees(cls, a, b):\n",
    "        \"Make a 'cherry' of the two trees a and b.\"\n",
    "        tree = cls()\n",
    "        tree.add_child(a)\n",
    "        tree.add_child(b)\n",
    "        return tree\n",
    "    # ---\n",
    "    \n",
    "    @classmethod\n",
    "    def make_cherry_of(cls, a,b):\n",
    "        \"Get a cherry tree out of both items.\"\n",
    "        cherry = cls()\n",
    "        cherry.add_child(name=a)\n",
    "        cherry.add_child(name=b)\n",
    "        return cherry\n",
    "    # ---\n",
    "    \n",
    "    @staticmethod\n",
    "    def replace_node(old, new):\n",
    "        old_parent = old.up\n",
    "        old.detach()\n",
    "        old_parent.add_child(new)\n",
    "        return new\n",
    "    # ---\n",
    "    \n",
    "    def show(self, mode=None, inline=False, styling=None, **kwargs):\n",
    "        \"Display the tree.\"\n",
    "        \n",
    "        # Check if a tree styling dict was specified\n",
    "        if styling:\n",
    "            # Assemble the treestyle object\n",
    "            ts = ete3.TreeStyle()\n",
    "            for key,value in styling.items():\n",
    "                setattr(ts, key, value)\n",
    "                \n",
    "            # Update the arguments list\n",
    "            kwargs['tree_style'] = ts\n",
    "                \n",
    "        # Inline Jupyter output\n",
    "        if inline or (mode == 'inline'):\n",
    "            return self.render('%%inline', **kwargs)\n",
    "        else:\n",
    "            # Tree GUI rendering\n",
    "            return super().show(**kwargs)\n",
    "    # ---\n",
    "    \n",
    "    def total_nodes(self):\n",
    "        return len(list(self.traverse()))\n",
    "    # ---\n",
    "\n",
    "    def add_as_sibling(self, a, b):\n",
    "        \"Add leaf a as sibling of b in the tree.\"\n",
    "        # Find the node corresponding to b and add a as sibling\n",
    "        b_node = self.search_nodes(name=b)[0]\n",
    "        # Make a new cherry out of a and b\n",
    "        # and attach it in place of b\n",
    "        cherry = self.make_cherry_of(a,b)\n",
    "        self.replace_node(b_node, cherry)\n",
    "    # ---\n",
    "\n",
    "    def prune_leaves(self, to_stay):\n",
    "        'Prune tree branches to leave only the leaves in `to_stay`.'\n",
    "        t = self.tree\n",
    "        \n",
    "        # Fetch leaf nodes with those names\n",
    "        stay_nodes = set()\n",
    "        for leaf in t:\n",
    "            if leaf.name in to_stay:\n",
    "                stay_nodes.add(leaf)\n",
    "        \n",
    "        t.prune(stay_nodes, preserve_branch_length=True)\n",
    "    # ---\n",
    "    \n",
    "    def distance_matrix(self):\n",
    "        \"Get the matrix of distances between each pair of leaves.\"\n",
    "        # Fetch the tree's leaves\n",
    "        leaves = self.get_leaves()\n",
    "        n = len(leaves)\n",
    "        # Get all pairs of leaves\n",
    "        pairs = itr.combinations(range(n), 2)\n",
    "        # Create an empty matrix\n",
    "        distances = DistanceMatrix.zeros(n, names=[l.name for l in leaves])\n",
    "        # Fill the distance matrix\n",
    "        for i,j in pairs:\n",
    "            d = self.get_distance(leaves[i],\n",
    "                                  leaves[j])\n",
    "            distances[i,j] = distances[j,i] = d \n",
    "            \n",
    "        return distances\n",
    "    # ---\n",
    "# --- Tree"
   ]
  },
  {
   "cell_type": "markdown",
   "metadata": {},
   "source": [
    "# Reconstructing trees from ultrametric distances"
   ]
  },
  {
   "cell_type": "code",
   "execution_count": 557,
   "metadata": {},
   "outputs": [
    {
     "name": "stdout",
     "output_type": "stream",
     "text": [
      "Overwriting phylogeny/reconstruction/ultrametric.py\n"
     ]
    }
   ],
   "source": [
    "%%writefile phylogeny/reconstruction/ultrametric.py\n",
    "'''\n",
    "This module presents an algorithm for reconstructing\n",
    "the ultrametric tree corresponding to a matrix of \n",
    "ultrametric distances. \n",
    "\n",
    "The algorithm is the one presented by Dan Gusfield in:\n",
    "\n",
    "    http://web.cs.ucdavis.edu/~gusfield/ultraerrat/ultraerrat.html\n",
    "    \n",
    "Additional information can be found on his book:\n",
    "\n",
    "    Algorithms on Strings, Trees, and Sequences.\n",
    "\n",
    "\n",
    "Usage::\n",
    "\n",
    "    # An ultrametric matrix\n",
    "    >>> ultrametric = [ [0, 8, 8, 5, 3],\n",
    "                        [8, 0, 3, 8, 8],\n",
    "                        [8, 3, 0, 8, 8],\n",
    "                        [5, 8, 8, 0, 5],\n",
    "                        [3, 8, 8, 5, 0] ]\n",
    "    >>> nodes = ['A', 'B', 'C', 'D', 'E']\n",
    "\n",
    "    # Get the tree\n",
    "    >>> t = ultrametric_to_tree(ultrametric, nodes)\n",
    "    >>> print(t)\n",
    "\n",
    "                 /-A\n",
    "              /-|\n",
    "           /-|   \\-E\n",
    "          |  |\n",
    "        --|   \\-D\n",
    "          |\n",
    "          |   /-B\n",
    "           \\-|\n",
    "              \\-C\n",
    "\n",
    "    \n",
    "\n",
    "Algorithm description:\n",
    "\n",
    "    \"...here is another combinatorial algorithm that I claim is correct \n",
    "     and that does run in O(n^2) time. The algorithm is described in terms \n",
    "     of a graph G, based on matrix D, but it can be implemented without an \n",
    "     explicit graph.\n",
    "\n",
    "     Let each row i of matrix D be represented by a node i in G, and each \n",
    "     edge (i,j) be given the value D(i,j). In O(n2) time, the algorithm \n",
    "     will find a very particular path in graph G:\n",
    "\n",
    "        Set N equal to all the indices 1 through n; set L to the empty path; \n",
    "        set i to any node.\n",
    "\n",
    "        Repeat n-1 times: begin remove i from N; find an index j in N such \n",
    "        that D(i,j) <= D(i,k) for any k in N. place edge (i,j) in the path L; \n",
    "        set i to j; end;\n",
    "\n",
    "     What this produces is a path L of exactly n edges, and the algorithm \n",
    "     can be implemented in O(n2) time. It turns out that L is a minimum \n",
    "     spanning tree of G, but that fact is not needed.\n",
    "\n",
    "     We will now use L to create the ultrametric tree recursively.\n",
    "\n",
    "     Concentrate on an edge (p,q) in the path L with the largest edge weight \n",
    "     of all edges in L, and let P be the set of nodes at or to the left of p \n",
    "     in L, and let Q be the set of nodes at or to the right of q in L. The \n",
    "     fact that D is an ultrametric matrix implies that for any pair of nodes \n",
    "     (i,j) where i is in P and j is in Q, D(i,j) = D(p,q). One way to prove \n",
    "     this is by induction on the number of edges between i and j in L \n",
    "     (applying the ultrametric condition that in any triangle, the max of the \n",
    "     three edge weights is not unique). What this means is that in the \n",
    "     ultrametric tree we are building (and in any ultrametric tree for D), \n",
    "     any pair of leaves (i,j) where i is in P and j is in Q must have their \n",
    "     least common ancestor at the root of the ultrametric tree, and that root \n",
    "     must be labelled D(p,q).\n",
    "\n",
    "     If there are k > 1 ties for the global max edge weight in L, then \n",
    "     removing those k edges creates k+1 subpaths of nodes, and applying the \n",
    "     above argument, any two nodes i and j which are in different subpaths \n",
    "     must have their least common ancestor at the root of the tree, which \n",
    "     again must be labeled D(p,q). Hence, any ultrametric tree T for D must \n",
    "     have exactly k+1 edges out of D, and the leaf set below any such edge \n",
    "     must be exactly the (distinct) set of nodes in one of the k+1 subpaths.\n",
    "\n",
    "     No matter what k is, removing the k max weight edges in L, and \n",
    "     partitioning N, takes only O(n) time.\n",
    "\n",
    "     To continue the description of the algorithm, we assume for convenience \n",
    "     that k = 1. Let LP and LQ denote the two subpaths created by removing \n",
    "     the max weight edge in L. Now we want to find an ultrametric tree for \n",
    "     set P and one for set Q; these two ultrametric trees will then be \n",
    "     attached to the root to creat the full ultrametric tree for D. But note \n",
    "     that we already have the needed paths LP and LQ that would be created if \n",
    "     we were to recursively apply the above method (clearly LP could result \n",
    "     if we applied the path building algorithm to P alone, and similarly for \n",
    "     LQ and Q). So we only need to find the max weight edge(s) in LP and the \n",
    "     max weight edge(s) in LQ. Those two edges can be found in O(n) total \n",
    "     time. Again, because the nodes were partitioned in the first step, this \n",
    "     time bound holds even for k > 1.\n",
    "\n",
    "     Continuing, we build the ultrametric tree in O(n2) total time.\n",
    "\n",
    "     Note that at each step of the algorithm, the node partitions that are \n",
    "     created, and the associated edges that are put into T, are forced. Hence \n",
    "     if D is an ultrametric matrix, the ultrametric tree T for D is unique.\n",
    "    \" - Dan Gusfield.\n",
    "\n",
    "'''\n",
    "\n",
    "import networkx as nx\n",
    "from ..core import Tree \n",
    "\n",
    "\n",
    "def ultrametric_to_tree(ultrametric, nodes):\n",
    "    g = get_graph(ultrametric, nodes)\n",
    "    P = get_path(g, ultrametric, nodes)\n",
    "    t = path_to_tree(P)\n",
    "    t.standardize()\n",
    "    \n",
    "    return t\n",
    "# ---\n",
    "\n",
    "def get_graph(ultrametric, nodes):\n",
    "    \"From an ultrametric matrix, get the weights graph.\"\n",
    "    \n",
    "    n = len(nodes) # Matrix dimensions\n",
    "    g = nx.Graph()\n",
    "    \n",
    "    # Add nodes\n",
    "    g.add_nodes_from(nodes)\n",
    "    \n",
    "    # Add edge weights\n",
    "    for i in range(n):\n",
    "        for j in range(i+1, n):\n",
    "            g.add_edge(nodes[i], nodes[j], weight=ultrametric[i][j])\n",
    "            \n",
    "    return g\n",
    "# ---\n",
    "\n",
    "def get_path(g, ultrametric, nodes):\n",
    "    \"From the weights graph, get the path.\"\n",
    "    weight = weights_for(ultrametric, nodes)\n",
    "    \n",
    "    N = set(nodes)\n",
    "    L = nx.Graph()\n",
    "    i = N.pop()\n",
    "\n",
    "    while(N):\n",
    "        # Find a node j in N for which D(i,j) is max\n",
    "        j,w = min([(node, weight(i, node)) for node in N],\n",
    "                  key=(lambda x:x[-1]))\n",
    "        # Place (i,j) in path L\n",
    "        L.add_edge(i,j, weight=w)\n",
    "        \n",
    "        i = j\n",
    "        N.remove(j)\n",
    "        \n",
    "    return L\n",
    "# ---\n",
    "\n",
    "def path_to_tree(P):    \n",
    "    tree = Tree()\n",
    "    \n",
    "    if len(P.edges) <= 1:\n",
    "        # Edge case\n",
    "        for v in P.nodes:\n",
    "            tree.add_child(name=v)\n",
    "    else:\n",
    "        # Remove the edge with the maximum weight\n",
    "        P = P.copy()\n",
    "        edge, weight = max_edge_weight(P)\n",
    "        P.remove_edge(*edge)\n",
    "        \n",
    "        # Do the same to the remaining subpaths\n",
    "        for c in nx.connected_components(P):\n",
    "            component = P.subgraph(c).copy()\n",
    "            tree.add_child(path_to_tree(component))\n",
    "            \n",
    "    return tree\n",
    "# ---\n",
    "\n",
    "def weights_for(matrix, nodes):\n",
    "    \"Get the entries by node name.\"\n",
    "    # Translate node names to indices\n",
    "    to_indices = {node:i for i,node in enumerate(nodes)}\n",
    "    \n",
    "    def weight_fn(a,b):\n",
    "        return matrix[to_indices[a]][to_indices[b]]\n",
    "    \n",
    "    return weight_fn\n",
    "# ---\n",
    "\n",
    "def max_edge_weight(L):\n",
    "    \"Return the edge with the largest weight.\"\n",
    "    return max([(edge,weight) for *edge,weight in L.edges.data('weight')],\n",
    "               key=lambda x: x[-1])\n",
    "# ---\n",
    "\n",
    "def draw_graph(g):\n",
    "    \"Display an edge-weighted graph.\"\n",
    "    labels = nx.get_edge_attributes(g,'weight')\n",
    "    nx.draw_networkx_edge_labels(g,\n",
    "                                 nx.circular_layout(g),\n",
    "                                 edge_labels=labels)\n",
    "    nx.draw_circular(g, with_labels=True)\n",
    "# ---"
   ]
  },
  {
   "cell_type": "code",
   "execution_count": 2,
   "metadata": {},
   "outputs": [
    {
     "name": "stdout",
     "output_type": "stream",
     "text": [
      "\n",
      "         /-E\n",
      "      /-|\n",
      "   /-|   \\-A\n",
      "  |  |\n",
      "--|   \\-D\n",
      "  |\n",
      "  |   /-B\n",
      "   \\-|\n",
      "      \\-C\n"
     ]
    }
   ],
   "source": [
    "from phylogeny.reconstruction.ultrametric import ultrametric_to_tree\n",
    "\n",
    "# An ultrametric matrix\n",
    "ultrametric = [ [0, 8, 8, 5, 3],\n",
    "                [8, 0, 3, 8, 8],\n",
    "                [8, 3, 0, 8, 8],\n",
    "                [5, 8, 8, 0, 5],\n",
    "                [3, 8, 8, 5, 0] ]\n",
    "nodes = ['A', 'B', 'C', 'D', 'E']\n",
    "\n",
    "# Get the tree\n",
    "t = ultrametric_to_tree(ultrametric, nodes)\n",
    "print(t)\n",
    "\n",
    "    #         /-A\n",
    "    #      /-|\n",
    "    #   /-|   \\-E\n",
    "    #  |  |\n",
    "    #--|   \\-D\n",
    "    #  |\n",
    "    #  |   /-B\n",
    "    #   \\-|\n",
    "    #      \\-C"
   ]
  },
  {
   "cell_type": "code",
   "execution_count": 6,
   "metadata": {},
   "outputs": [
    {
     "data": {
      "image/png": "[encoded data removed]",
      "text/plain": [
       "<matplotlib.figure.Figure at 0x7ff90c96d358>"
      ]
     },
     "metadata": {},
     "output_type": "display_data"
    }
   ],
   "source": [
    "import phylogeny.reconstruction.ultrametric as u\n",
    "g = u.get_graph(ultrametric, nodes)\n",
    "u.draw_graph(g)"
   ]
  },
  {
   "cell_type": "code",
   "execution_count": 7,
   "metadata": {},
   "outputs": [
    {
     "data": {
      "image/png": "[encoded data removed]",
      "text/plain": [
       "<matplotlib.figure.Figure at 0x7ff903e60e48>"
      ]
     },
     "metadata": {},
     "output_type": "display_data"
    }
   ],
   "source": [
    "P = u.get_path(g, ultrametric, nodes)\n",
    "u.draw_graph(P)"
   ]
  },
  {
   "cell_type": "code",
   "execution_count": 8,
   "metadata": {},
   "outputs": [
    {
     "data": {
      "image/png": "[encoded data removed]",
      "text/plain": [
       "<IPython.core.display.Image object>"
      ]
     },
     "execution_count": 8,
     "metadata": {},
     "output_type": "execute_result"
    }
   ],
   "source": [
    "t = u.path_to_tree(P)\n",
    "t.show(inline=True)"
   ]
  },
  {
   "cell_type": "markdown",
   "metadata": {},
   "source": [
    "# The Cavender-Farris-Neyman model"
   ]
  },
  {
   "cell_type": "code",
   "execution_count": 7,
   "metadata": {},
   "outputs": [
    {
     "name": "stdout",
     "output_type": "stream",
     "text": [
      "Overwriting phylogeny/models/cfn.py\n"
     ]
    }
   ],
   "source": [
    "%%writefile phylogeny/models/cfn.py\n",
    "\"\"\"\n",
    "Module implementing the Cavender-Farris-Neymann stochastic tree model.\n",
    "\n",
    "The model is based on the description by the book:\n",
    "    \n",
    "    Computational Phylogenetics.\n",
    "      An introduction to designing methods for phylogeny estimation.\n",
    "      -- by Tandy Warnow\n",
    "\n",
    "The CFN model in words from the book:\n",
    "\n",
    "\"The Cavender-Farris-Neyman (CFN) model describes how a trait (which \n",
    " can either be present or absent) evolves down a tree (Cavender, \n",
    " 1978; Farris, 1973; Neyman, 1971).\n",
    "\n",
    " ...a CFN model has a rooted binary tree T (i.e., a tree in which \n",
    " every node is either a leaf or has two children) with numerical \n",
    " parameters that describe the evolutionary process of a trait. Under \n",
    " the CFN model, the probability of absence (0) or presence (1) is the \n",
    " same at the root, but the state can change on the edges (also called \n",
    " branches) of the tree. Thus, we associate a parameter p(e) to every \n",
    " edge e in the tree, where p(e) denotes the probability that the \n",
    " endpoints of the edge e have different states. In other words, p(e)\n",
    " is the probability of changing state (from 1 to 0, or vice-versa)\n",
    " ... we require 0 < p(e) < 0.5.\n",
    "\n",
    " Under  the  CFN  model,  a  trait  (which  is  also  called  a  \n",
    " “character”)  evolves  down  the tree under this random process, and \n",
    " hence attains a state at every node in the tree, and in particular \n",
    " at the leaves of the tree. You could write a computer program for a \n",
    " CFN model tree that would generate 0s and 1s at the leaves of the \n",
    " tree; thus, CFN is a generative model.\n",
    " \n",
    " Each time you ran the program you would get another pattern of 0s and \n",
    " 1s at the leaves of the tree. Thus, if you repeated the process 10 \n",
    " times, each time independently generating a new trait down the tree, \n",
    " you would produce sequences of length 10 at the leaves of the tree.\"\n",
    "    -- from the book.\n",
    "\"\"\"\n",
    "\n",
    "import math\n",
    "import random as rnd\n",
    "import itertools as itr\n",
    "import numpy as np\n",
    "from collections import defaultdict\n",
    "from ..core import Tree\n",
    "\n",
    "\n",
    "def swap(binary):\n",
    "    if binary:\n",
    "        return 0\n",
    "    else:\n",
    "        return 1\n",
    "# ---\n",
    "\n",
    "def random_test(probability):\n",
    "    'Return True with a given probability, otherwise return False.'\n",
    "    return (rnd.random() < probability)\n",
    "# ---\n",
    "\n",
    "\n",
    "class CFN_Tree(Tree):\n",
    "    \"\"\"A Cavender-Farris-Neymann stochastic tree model.\n",
    "    \n",
    "    Usage::\n",
    "    \n",
    "        # Create a new empty tree.\n",
    "        >>> cfn = CFN_Tree()\n",
    "\n",
    "        # Branch randomly until you have 5 leaves.\n",
    "        >>> cfn.populate(5)\n",
    "        >>> print(cfn)\n",
    "\n",
    "             Node: 0, node probability: 0\n",
    "             Node: 1, node probability: 0.2192846999188683\n",
    "             Node: 2, node probability: 0.06144844447962278\n",
    "             Node: 3, node probability: 0.14342505932071808\n",
    "             Node: 4, node probability: 0.1370117188846906\n",
    "             Node: 5, node probability: 0.44060196062669255\n",
    "             Node: 6, node probability: 0.009555798385131098\n",
    "             Node: 7, node probability: 0.48946332859444935\n",
    "             Node: 8, node probability: 0.39505550345399304\n",
    "\n",
    "                   /-3\n",
    "                /1|\n",
    "               |  |   /-7\n",
    "               |   \\4|\n",
    "             -0|      \\-8\n",
    "               |\n",
    "               |   /-5\n",
    "                \\2|\n",
    "                   \\-6\n",
    "\n",
    "        # Evolve 5 traits through the tree\n",
    "        >>> sequences = cfn.evolve_traits([1,1,1,1,1])\n",
    "        >>> sequences\n",
    "\n",
    "             { 3: [0, 0, 0, 1, 1], \n",
    "               7: [1, 0, 1, 0, 1], \n",
    "               8: [1, 0, 0, 1, 1], \n",
    "               5: [1, 1, 1, 1, 1], \n",
    "               6: [1, 1, 1, 1, 1] }\n",
    "    \n",
    "    \"\"\"\n",
    "    \n",
    "    @staticmethod\n",
    "    def cfn_metric(probability):\n",
    "        \"Return the length of an edge with the given probability.\"\n",
    "        return -math.log(1 - 2*probability) / 2\n",
    "    # ---\n",
    "        \n",
    "    def __str__(self):\n",
    "        node_strings = [f\"Node: {node.name}, substitution probability: {node.probability}\"\n",
    "                           for node in self.traverse()]\n",
    "        \n",
    "        return (  '\\n'.join(node_strings) \n",
    "                + '\\n' \n",
    "                + self.get_ascii(show_internal=True) )\n",
    "    # ---\n",
    "    \n",
    "    def populate(self, n):\n",
    "        'Populate the tree with nodes and change probabilities.'\n",
    "        # Populate the usual way\n",
    "        super().populate(n)\n",
    "        # Change names and add probabilities\n",
    "        for i,node in enumerate(self.traverse()):\n",
    "            node.name = i\n",
    "            if i > 0:\n",
    "                # Add a change probability < 0.5\n",
    "                p = rnd.random() / 2\n",
    "                node.add_feature('probability', p)\n",
    "                # The probability in the model is associated to the edge \n",
    "                # (branch), in this implementation, we associate the \n",
    "                # probability to the node downstream of the edge.\n",
    "                \n",
    "                # Add the distance from the previous node \n",
    "                node.dist = self.cfn_metric(p)\n",
    "                # The 'CNF model distance' is an additive\n",
    "                # metric representing the average n\n",
    "            else:\n",
    "                # No probability of change before this\n",
    "                node.add_feature('probability', 0)\n",
    "    # ---        \n",
    "    \n",
    "    def evolve_traits(self, traits):\n",
    "        \"Evolve the binary traits through the tree.\"\n",
    "        # The sequences generated\n",
    "        sequences = defaultdict(list)\n",
    "        for leaf in self.iter_leaves():\n",
    "            path_from_root = list(reversed(leaf.get_ancestors()))\n",
    "            path_from_root.append(leaf)\n",
    "            # Evolve each trait\n",
    "            for trait in traits:\n",
    "                # Follow path stochastically \n",
    "                final_trait = self.trait_traverse(path_from_root, trait)\n",
    "                # Save character's final state\n",
    "                sequences[leaf.name].append(final_trait)\n",
    "        return dict(sequences)\n",
    "    # ---\n",
    "            \n",
    "    def trait_traverse(self, path_from_root, init):\n",
    "        # Follow path stochastically \n",
    "        trait = init\n",
    "        for node in path_from_root: \n",
    "            probability = node.probability\n",
    "            if random_test(probability):\n",
    "                trait = swap(trait)\n",
    "        # Return character's final state\n",
    "        return trait\n",
    "    # ---\n",
    "# --- CFN_Tree"
   ]
  },
  {
   "cell_type": "code",
   "execution_count": 2,
   "metadata": {},
   "outputs": [
    {
     "name": "stdout",
     "output_type": "stream",
     "text": [
      "Node: 0, substitution probability: 0\n",
      "Node: 1, substitution probability: 0.4388517173093997\n",
      "Node: 2, substitution probability: 0.1933952264310802\n",
      "Node: 3, substitution probability: 0.3885970281646867\n",
      "Node: 4, substitution probability: 0.3053286460998931\n",
      "Node: 5, substitution probability: 0.4908798324523766\n",
      "Node: 6, substitution probability: 0.15471043261457923\n",
      "Node: 7, substitution probability: 0.39221716728786704\n",
      "Node: 8, substitution probability: 0.024884048271336945\n",
      "\n",
      "      /-3\n",
      "   /1|\n",
      "  |  |   /-7\n",
      "  |   \\4|\n",
      "-0|      \\-8\n",
      "  |\n",
      "  |   /-5\n",
      "   \\2|\n",
      "      \\-6\n"
     ]
    },
    {
     "data": {
      "image/png": "[encoded data removed]",
      "text/plain": [
       "<IPython.core.display.Image object>"
      ]
     },
     "execution_count": 2,
     "metadata": {},
     "output_type": "execute_result"
    }
   ],
   "source": [
    "from phylogeny.models.cfn import CFN_Tree\n",
    "\n",
    "# Create a new random tree with 5 leaves.\n",
    "cfn = CFN_Tree(leaves=5)\n",
    "\n",
    "print(cfn)\n",
    "\n",
    "    # Node: 0, node probability: 0\n",
    "    # Node: 1, node probability: 0.2192846999188683\n",
    "    # Node: 2, node probability: 0.06144844447962278\n",
    "    # Node: 3, node probability: 0.14342505932071808\n",
    "    # Node: 4, node probability: 0.1370117188846906\n",
    "    # Node: 5, node probability: 0.44060196062669255\n",
    "    # Node: 6, node probability: 0.009555798385131098\n",
    "    # Node: 7, node probability: 0.48946332859444935\n",
    "    # Node: 8, node probability: 0.39505550345399304\n",
    "    #\n",
    "    #       /-3\n",
    "    #    /1|\n",
    "    #   |  |   /-7\n",
    "    #   |   \\4|\n",
    "    # -0|      \\-8\n",
    "    #   |\n",
    "    #   |   /-5\n",
    "    #    \\2|\n",
    "    #       \\-6\n",
    "    \n",
    "cfn.show('inline')"
   ]
  },
  {
   "cell_type": "code",
   "execution_count": 3,
   "metadata": {},
   "outputs": [
    {
     "name": "stdout",
     "output_type": "stream",
     "text": [
      "{3: [0, 0, 0, 1, 0], 7: [1, 0, 1, 0, 0], 8: [0, 0, 1, 1, 1], 5: [1, 1, 1, 1, 0], 6: [1, 1, 1, 1, 0]}\n"
     ]
    }
   ],
   "source": [
    "# Evolve 5 traits through the tree\n",
    "sequences = cfn.evolve_traits([1,1,1,1,1])\n",
    "print(sequences)\n",
    "\n",
    "    # { 3: [0, 0, 0, 1, 1], \n",
    "    #   7: [1, 0, 1, 0, 1], \n",
    "    #   8: [1, 0, 0, 1, 1], \n",
    "    #   5: [1, 1, 1, 1, 1], \n",
    "    #   6: [1, 1, 1, 1, 1] }"
   ]
  },
  {
   "cell_type": "code",
   "execution_count": 4,
   "metadata": {},
   "outputs": [
    {
     "data": {
      "text/plain": [
       "DistanceMatrix([[ 0. ,  2. ,  1.2,  4. ,  2.2],\n",
       "                [ 2. ,  0. ,  0.8,  4.5,  2.7],\n",
       "                [ 1.2,  0.8,  0. ,  3.8,  2. ],\n",
       "                [ 4. ,  4.5,  3.8,  0. ,  2.2],\n",
       "                [ 2.2,  2.7,  2. ,  2.2,  0. ]], names=(3, 7, 8, 5, 6))"
      ]
     },
     "execution_count": 4,
     "metadata": {},
     "output_type": "execute_result"
    }
   ],
   "source": [
    "cfn.distance_matrix()"
   ]
  },
  {
   "cell_type": "markdown",
   "metadata": {},
   "source": [
    "## Clocklike reconstruction on the CFN model"
   ]
  },
  {
   "cell_type": "code",
   "execution_count": 4,
   "metadata": {},
   "outputs": [
    {
     "name": "stdout",
     "output_type": "stream",
     "text": [
      "Overwriting phylogeny/reconstruction/clocklike.py\n"
     ]
    }
   ],
   "source": [
    "%%writefile phylogeny/reconstruction/clocklike.py\n",
    "\"\"\"\n",
    "Module implementing phylogeny estimation assuming clocklike evolution.\n",
    "\n",
    "\"An assumption that is sometimes made is that sequence \n",
    "evolution is clocklike (also referred to as obeying \n",
    "the strict molecular clock), which means that the \n",
    "expected number of changes is proportional to time. \n",
    "If we assume that the leaves represent extant (i.e., \n",
    "living) species, then under the assumption of a \n",
    "strict molecular clock, the total expected number of \n",
    "changes from the root to any leaf is the same. Under \n",
    "the assumption of a strict molecular clock, the matrix \n",
    "of expected distances between the leaves in the tree \n",
    "has properties that make it “ultrametric”.\"\n",
    "\n",
    "    -- From the book: \"Computational Phylogenetics. An introduction \n",
    "       to designing methods for phylogeny estimation\" by Tandy Warnow\n",
    "\"\"\"\n",
    "from ..core import DistanceMatrix, Tree\n",
    "\n",
    "\n",
    "def infer_clocklike_tree(sequences):\n",
    "    \"\"\"Assumming the sequences evolved in a clocklike process, \n",
    "    infer the tree.\n",
    "    \n",
    "    \"One very natural approach to estimating the tree would \n",
    "    be to select as siblings the two sequences that are the \n",
    "    most similar to each other from the three possible pairs. \n",
    "    Because the sequence evolution model is clocklike, this \n",
    "    technique will correctly construct rooted three-leaf trees \n",
    "    with high probability. Furthermore, the method can even be \n",
    "    extended to work  on  trees  with  more  than  three  leaves,  \n",
    "    using  recursion...\n",
    "    \n",
    "    Hence, to estimate this tree, we would first compare all \n",
    "    pairs of sequences to find which pair is the most similar, \n",
    "    and we’d select 'a' and 'b' as this pair. We’d then correctly \n",
    "    infer that species 'a' and 'b' are siblings. We could then \n",
    "    remove one of these two sequences (say 'a'), and reconstruct \n",
    "    the tree on what remains. Finally, we would add 'a' into the \n",
    "    tree we construct with the other vertices, by making it a \n",
    "    sibling to 'b'.\"\n",
    "    \n",
    "        -- From the book.\n",
    "    \"\"\"\n",
    "    if len(sequences) == 2:\n",
    "        # Return a cherry tree\n",
    "        cherry = Tree.make_cherry_of(*sequences)\n",
    "        return cherry\n",
    "    else:\n",
    "        # Find closest taxa a,b in S\n",
    "        distances = DistanceMatrix.from_sequences(sequences)\n",
    "        (a,b), _ = min(distances.name_all(), key=lambda item: item[-1])\n",
    "        # Recurse on (sequences \\ a)\n",
    "        chopped = {k:v for k,v in sequences.items() if k != a}\n",
    "        tree = infer_clocklike_tree(chopped)\n",
    "        # Find the node corresponding to b and add a as sibling\n",
    "        tree.add_as_sibling(a, b)\n",
    "        return tree\n",
    "# ---"
   ]
  },
  {
   "cell_type": "code",
   "execution_count": 5,
   "metadata": {},
   "outputs": [],
   "source": [
    "# Evolve traits through the tree\n",
    "sequences = cfn.evolve_traits([1]*10_000)"
   ]
  },
  {
   "cell_type": "code",
   "execution_count": 6,
   "metadata": {},
   "outputs": [
    {
     "data": {
      "text/plain": [
       "DistanceMatrix([[    0.,  4983.,  4951.,  5001.,  4947.],\n",
       "                [ 4983.,     0.,  4952.,  4952.,  5060.],\n",
       "                [ 4951.,  4952.,     0.,  4990.,  4982.],\n",
       "                [ 5001.,  4952.,  4990.,     0.,  4944.],\n",
       "                [ 4947.,  5060.,  4982.,  4944.,     0.]], names=(3, 7, 8, 5, 6))"
      ]
     },
     "execution_count": 6,
     "metadata": {},
     "output_type": "execute_result"
    }
   ],
   "source": [
    "from phylogeny import DistanceMatrix\n",
    "\n",
    "DistanceMatrix.from_sequences(sequences)"
   ]
  },
  {
   "cell_type": "code",
   "execution_count": 7,
   "metadata": {},
   "outputs": [
    {
     "data": {
      "text/plain": [
       "[3, 7, 8, 5, 6]"
      ]
     },
     "execution_count": 7,
     "metadata": {},
     "output_type": "execute_result"
    }
   ],
   "source": [
    "leaves = list(sequences.keys())\n",
    "leaves"
   ]
  },
  {
   "cell_type": "code",
   "execution_count": 8,
   "metadata": {},
   "outputs": [
    {
     "name": "stdout",
     "output_type": "stream",
     "text": [
      "\n",
      "      /-7\n",
      "   /-|\n",
      "  |   \\-8\n",
      "--|\n",
      "  |   /-3\n",
      "   \\-|\n",
      "     |   /-5\n",
      "      \\-|\n",
      "         \\-6\n"
     ]
    },
    {
     "data": {
      "image/png": "[encoded data removed]",
      "text/plain": [
       "<IPython.core.display.Image object>"
      ]
     },
     "execution_count": 8,
     "metadata": {},
     "output_type": "execute_result"
    }
   ],
   "source": [
    "from phylogeny.reconstruction.clocklike import infer_clocklike_tree\n",
    "\n",
    "t = infer_clocklike_tree(sequences)\n",
    "\n",
    "print(t)\n",
    "t.show(inline=True)"
   ]
  },
  {
   "cell_type": "code",
   "execution_count": 9,
   "metadata": {},
   "outputs": [
    {
     "data": {
      "image/png": "[encoded data removed]",
      "text/plain": [
       "<IPython.core.display.Image object>"
      ]
     },
     "execution_count": 9,
     "metadata": {},
     "output_type": "execute_result"
    }
   ],
   "source": [
    "cfn.show(inline=True)"
   ]
  },
  {
   "cell_type": "markdown",
   "metadata": {},
   "source": [
    "## Application: Clocklike reconstruction in a cell system"
   ]
  },
  {
   "cell_type": "code",
   "execution_count": 11,
   "metadata": {},
   "outputs": [
    {
     "name": "stdout",
     "output_type": "stream",
     "text": [
      "New cell 0 added @ (5, 5)\n",
      "Cell no. 0 dividing @ (5, 5)\n",
      "\tNew cells: 1 @ (5, 5) and 2 @ (6, 4)\n",
      "Cell no. 1 mutating @ site (5, 5) (father None)\n",
      "\t\t Initial mutations: []\n",
      "                \t Initial genome: AAAAAAAAAAAAAAAAAAAAAAAAAAAAAAAAAAAAAAAAAAAAAAAAAA\n",
      "\t\t Final mutations: [(23, 'T')]\n",
      "                \t Final genome: AAAAAAAAAAAAAAAAAAAAAAATAAAAAAAAAAAAAAAAAAAAAAAAAA\n",
      "Cell no. 2 mutating @ site (6, 4) (father None)\n",
      "\t\t Initial mutations: []\n",
      "                \t Initial genome: AAAAAAAAAAAAAAAAAAAAAAAAAAAAAAAAAAAAAAAAAAAAAAAAAA\n",
      "\t\t Final mutations: [(19, 'A')]\n",
      "                \t Final genome: AAAAAAAAAAAAAAAAAAAAAAAAAAAAAAAAAAAAAAAAAAAAAAAAAA\n",
      "Cell no. 1 mutating @ site (5, 5) (father None)\n",
      "\t\t Initial mutations: [(23, 'T')]\n",
      "                \t Initial genome: AAAAAAAAAAAAAAAAAAAAAAATAAAAAAAAAAAAAAAAAAAAAAAAAA\n",
      "\t\t Final mutations: [(23, 'T'), (30, 'T')]\n",
      "                \t Final genome: AAAAAAAAAAAAAAAAAAAAAAATAAAAAATAAAAAAAAAAAAAAAAAAA\n",
      "Cell no. 2 mutating @ site (6, 4) (father None)\n",
      "\t\t Initial mutations: [(19, 'A')]\n",
      "                \t Initial genome: AAAAAAAAAAAAAAAAAAAAAAAAAAAAAAAAAAAAAAAAAAAAAAAAAA\n",
      "\t\t Final mutations: [(19, 'A'), (0, 'T')]\n",
      "                \t Final genome: TAAAAAAAAAAAAAAAAAAAAAAAAAAAAAAAAAAAAAAAAAAAAAAAAA\n",
      "Cell no. 2 mutating @ site (6, 4) (father None)\n",
      "\t\t Initial mutations: [(19, 'A'), (0, 'T')]\n",
      "                \t Initial genome: TAAAAAAAAAAAAAAAAAAAAAAAAAAAAAAAAAAAAAAAAAAAAAAAAA\n",
      "\t\t Final mutations: [(19, 'A'), (0, 'T'), (14, 'G')]\n",
      "                \t Final genome: TAAAAAAAAAAAAAGAAAAAAAAAAAAAAAAAAAAAAAAAAAAAAAAAAA\n",
      "Cell no. 1 migrating from site (5, 5) (father None)\n",
      "\t New site: (6, 6)\n",
      "Cell no. 2 mutating @ site (6, 4) (father None)\n",
      "\t\t Initial mutations: [(19, 'A'), (0, 'T'), (14, 'G')]\n",
      "                \t Initial genome: TAAAAAAAAAAAAAGAAAAAAAAAAAAAAAAAAAAAAAAAAAAAAAAAAA\n",
      "\t\t Final mutations: [(19, 'A'), (0, 'T'), (14, 'G'), (42, 'C')]\n",
      "                \t Final genome: TAAAAAAAAAAAAAGAAAAAAAAAAAAAAAAAAAAAAAAAAACAAAAAAA\n",
      "Cell no. 1 mutating @ site (6, 6) (father None)\n",
      "\t\t Initial mutations: [(23, 'T'), (30, 'T')]\n",
      "                \t Initial genome: AAAAAAAAAAAAAAAAAAAAAAATAAAAAATAAAAAAAAAAAAAAAAAAA\n",
      "\t\t Final mutations: [(23, 'T'), (30, 'T'), (34, 'T')]\n",
      "                \t Final genome: AAAAAAAAAAAAAAAAAAAAAAATAAAAAATAAATAAAAAAAAAAAAAAA\n",
      "Cell no. 1 dividing @ (6, 6)\n",
      "\tNew cells: 3 @ (6, 5) and 4 @ (5, 6)\n",
      "Cell no. 2 dividing @ (6, 4)\n",
      "\tNew cells: 5 @ (5, 3) and 6 @ (5, 3)\n",
      "Cell no. 6 dividing @ (5, 3)\n",
      "\tNew cells: 7 @ (5, 3) and 8 @ (5, 2)\n",
      "Cell no. 5 migrating from site (5, 3) (father 2)\n",
      "\t New site: (6, 2)\n",
      "Cell no. 3 mutating @ site (6, 5) (father 1)\n",
      "\t\t Initial mutations: [(23, 'T'), (30, 'T'), (34, 'T')]\n",
      "                \t Initial genome: AAAAAAAAAAAAAAAAAAAAAAATAAAAAATAAATAAAAAAAAAAAAAAA\n",
      "\t\t Final mutations: [(23, 'T'), (30, 'T'), (34, 'T'), (15, 'C')]\n",
      "                \t Final genome: AAAAAAAAAAAAAAACAAAAAAATAAAAAATAAATAAAAAAAAAAAAAAA\n",
      "Cell no. 4 dividing @ (5, 6)\n",
      "\tNew cells: 9 @ (6, 5) and 10 @ (6, 5)\n",
      "Cell no. 7 mutating @ site (5, 3) (father 6)\n",
      "\t\t Initial mutations: [(19, 'A'), (0, 'T'), (14, 'G'), (42, 'C')]\n",
      "                \t Initial genome: TAAAAAAAAAAAAAGAAAAAAAAAAAAAAAAAAAAAAAAAAACAAAAAAA\n",
      "\t\t Final mutations: [(19, 'A'), (0, 'T'), (14, 'G'), (42, 'C'), (29, 'G')]\n",
      "                \t Final genome: TAAAAAAAAAAAAAGAAAAAAAAAAAAAAGAAAAAAAAAAAACAAAAAAA\n",
      "Cell no. 3 death @ site (6, 5) (father 1)\n",
      "Cell no. 8 dividing @ (5, 2)\n",
      "\tNew cells: 11 @ (4, 2) and 12 @ (6, 2)\n",
      "Cell no. 9 death @ site (6, 5) (father 4)\n",
      "Cell no. 10 mutating @ site (6, 5) (father 4)\n",
      "\t\t Initial mutations: [(23, 'T'), (30, 'T'), (34, 'T')]\n",
      "                \t Initial genome: AAAAAAAAAAAAAAAAAAAAAAATAAAAAATAAATAAAAAAAAAAAAAAA\n",
      "\t\t Final mutations: [(23, 'T'), (30, 'T'), (34, 'T'), (14, 'T')]\n",
      "                \t Final genome: AAAAAAAAAAAAAATAAAAAAAATAAAAAATAAATAAAAAAAAAAAAAAA\n",
      "Cell no. 5 migrating from site (6, 2) (father 2)\n",
      "\t New site: (6, 1)\n",
      "Cell no. 12 death @ site (6, 2) (father 8)\n",
      "Cell no. 7 mutating @ site (5, 3) (father 6)\n",
      "\t\t Initial mutations: [(19, 'A'), (0, 'T'), (14, 'G'), (42, 'C'), (29, 'G')]\n",
      "                \t Initial genome: TAAAAAAAAAAAAAGAAAAAAAAAAAAAAGAAAAAAAAAAAACAAAAAAA\n",
      "\t\t Final mutations: [(19, 'A'), (0, 'T'), (14, 'G'), (42, 'C'), (29, 'G'), (5, 'T')]\n",
      "                \t Final genome: TAAAATAAAAAAAAGAAAAAAAAAAAAAAGAAAAAAAAAAAACAAAAAAA\n",
      "Cell no. 11 mutating @ site (4, 2) (father 8)\n",
      "\t\t Initial mutations: [(19, 'A'), (0, 'T'), (14, 'G'), (42, 'C')]\n",
      "                \t Initial genome: TAAAAAAAAAAAAAGAAAAAAAAAAAAAAAAAAAAAAAAAAACAAAAAAA\n",
      "\t\t Final mutations: [(19, 'A'), (0, 'T'), (14, 'G'), (42, 'C'), (10, 'C')]\n",
      "                \t Final genome: TAAAAAAAAACAAAGAAAAAAAAAAAAAAAAAAAAAAAAAAACAAAAAAA\n",
      "Cell no. 10 migrating from site (6, 5) (father 4)\n",
      "\t New site: (5, 6)\n",
      "Cell no. 5 dividing @ (6, 1)\n",
      "\tNew cells: 13 @ (6, 2) and 14 @ (7, 2)\n"
     ]
    }
   ],
   "source": [
    "from cellsystem import *\n",
    "\n",
    "# The cell system will simulate cell growth\n",
    "# while tracking the steps in that process.\n",
    "system = CellSystem(grid_shape=(10, 10), init_genome='A'*50)\n",
    "\n",
    "# Initialize the first cell\n",
    "# in the middle of the grid\n",
    "system.seed()\n",
    "\n",
    "\n",
    "# Take 20 steps forward in time\n",
    "system.run(steps=10)\n",
    "\n",
    "system['log']['simple'].silence()\n",
    "system.run(steps=10)"
   ]
  },
  {
   "cell_type": "code",
   "execution_count": 12,
   "metadata": {},
   "outputs": [
    {
     "data": {
      "text/plain": [
       "{26: 'TAAAAAATAAAAAAGAAAAAAAATTAAAAAAAAAAAAGATAACAAAAAAA',\n",
       " 37: 'TAAAAAAAAAAAAAGAAAAAAAATAAAAAAAAAAAAAGAAAACAACAAAA',\n",
       " 38: 'TAAAAAAAAAAAAAGAAAAAAAATAAAAAAAAAAAAAGTAAACAACAAAA',\n",
       " 40: 'TTAAAAAAAAAAAAGAAAAAAAATAAAAAAAAAAAAAGAAAACAAAAAAA',\n",
       " 45: 'TAAAAAAAAAAAAAGAAAAAAAATAAAAAAAAAAAAAGAAAACAAAAAAA',\n",
       " 47: 'TAAAAAAAAAAAAAGAAAAAAAATAAAAAAAAAAAAAGAAAACAAAAAAA',\n",
       " 48: 'TAAAAAAAAAAAAAGAAAAAAAATAAAAAAAAAAAAAGAAAACAAAAAAA'}"
      ]
     },
     "execution_count": 12,
     "metadata": {},
     "output_type": "execute_result"
    }
   ],
   "source": [
    "# Fetch the evolved DNA sequences\n",
    "cell_sequences = {cell.index:cell.genome for cell in system['cells'].alive_cells}\n",
    "cell_sequences"
   ]
  },
  {
   "cell_type": "code",
   "execution_count": 13,
   "metadata": {},
   "outputs": [
    {
     "data": {
      "image/png": "[encoded data removed]",
      "text/plain": [
       "<IPython.core.display.Image object>"
      ]
     },
     "execution_count": 13,
     "metadata": {},
     "output_type": "execute_result"
    }
   ],
   "source": [
    "# Look at the real ancestry tree\n",
    "t = system['log'].ancestry(prune_death=True)\n",
    "t.show(inline=True)"
   ]
  },
  {
   "cell_type": "code",
   "execution_count": 15,
   "metadata": {},
   "outputs": [
    {
     "data": {
      "image/png": "[encoded data removed]",
      "text/plain": [
       "<IPython.core.display.Image object>"
      ]
     },
     "execution_count": 15,
     "metadata": {},
     "output_type": "execute_result"
    }
   ],
   "source": [
    "t = infer_clocklike_tree(cell_sequences)\n",
    "t.show(inline=True)"
   ]
  },
  {
   "cell_type": "markdown",
   "metadata": {},
   "source": [
    "## Estimating the unrooted CFN tree when evolution is not clocklike"
   ]
  },
  {
   "cell_type": "code",
   "execution_count": 10,
   "metadata": {},
   "outputs": [
    {
     "name": "stdout",
     "output_type": "stream",
     "text": [
      "Node: 0, substitution probability: 0\n",
      "Node: 1, substitution probability: 0.4872282359045812\n",
      "Node: 2, substitution probability: 0.43418372933447474\n",
      "Node: 3, substitution probability: 0.18356706119600652\n",
      "Node: 4, substitution probability: 0.020042029519406757\n",
      "Node: 5, substitution probability: 0.38322492554463733\n",
      "Node: 6, substitution probability: 0.3829964198888869\n",
      "Node: 7, substitution probability: 0.14217126470487562\n",
      "Node: 8, substitution probability: 0.4335259866014257\n",
      "\n",
      "      /-3\n",
      "   /1|\n",
      "  |   \\-4\n",
      "-0|\n",
      "  |   /-5\n",
      "   \\2|\n",
      "     |   /-7\n",
      "      \\6|\n",
      "         \\-8\n"
     ]
    },
    {
     "data": {
      "image/png": "[encoded data removed]",
      "text/plain": [
       "<IPython.core.display.Image object>"
      ]
     },
     "execution_count": 10,
     "metadata": {},
     "output_type": "execute_result"
    }
   ],
   "source": [
    "# Create a new random tree with 5 leaves\n",
    "cfn = CFN_Tree(leaves=5)\n",
    "\n",
    "print(cfn)\n",
    "cfn.show(inline=True)"
   ]
  },
  {
   "cell_type": "code",
   "execution_count": 11,
   "metadata": {},
   "outputs": [
    {
     "data": {
      "image/png": "[encoded data removed]",
      "text/plain": [
       "<IPython.core.display.Image object>"
      ]
     },
     "execution_count": 11,
     "metadata": {},
     "output_type": "execute_result"
    }
   ],
   "source": [
    "sequences = cfn.evolve_traits([1]*1000)\n",
    "t = infer_clocklike_tree(sequences)\n",
    "t.show('inline')"
   ]
  },
  {
   "cell_type": "code",
   "execution_count": 12,
   "metadata": {},
   "outputs": [
    {
     "data": {
      "image/png": "[encoded data removed]",
      "text/plain": [
       "<IPython.core.display.Image object>"
      ]
     },
     "execution_count": 12,
     "metadata": {},
     "output_type": "execute_result"
    }
   ],
   "source": [
    "sequences = cfn.evolve_traits([1]*100_000)\n",
    "t = infer_clocklike_tree(sequences)\n",
    "t.show('inline')"
   ]
  },
  {
   "cell_type": "markdown",
   "metadata": {},
   "source": [
    "It can be noted that assumming clocklike evolution converges to a tree whose distances look close to the CNF distances, but with the wrong topology."
   ]
  },
  {
   "cell_type": "markdown",
   "metadata": {},
   "source": [
    "### The four point condition\n",
    "\n",
    "The Four Point Condition is the statement that the two largest values of the three pairwise distance sums on four indices are the same. The Four Point Condition holds for any additive matrix, which allows branch lengths to be zero (as long as they are never negative)"
   ]
  },
  {
   "cell_type": "code",
   "execution_count": 558,
   "metadata": {},
   "outputs": [
    {
     "name": "stdout",
     "output_type": "stream",
     "text": [
      "Writing phylogeny/core/fpc.py\n"
     ]
    }
   ],
   "source": [
    "%%writefile phylogeny/core/fpc.py\n",
    "\"\"\"\n",
    "The four point condition.\n",
    "\n",
    "The Four Point Condition holds for any additive matrix.\n",
    "\n",
    "Let's say we have the following unrooted tree:\n",
    "\n",
    "    1 -\\    /- 3\n",
    "        >--<\n",
    "    2 -/    \\- 4\n",
    "    \n",
    "Let the distance between leaves 'a' and 'b' be D(a,b). \n",
    "Consider the three following pairwise sums:\n",
    "\n",
    "    * D(1,2) + D(3,4)\n",
    "    * D(1,3) + D(2,4)\n",
    "    * D(1,4) + D(2,3)\n",
    "\n",
    "The smallest of these sums has to be D(1,2)+D(3,4), since\n",
    "it covers all the edges of the tree connecting the four \n",
    "leaves, EXCEPT for the ones on the path separating 1 and 2 \n",
    "from 3 and 4. Furthermore, the two larger of the three \n",
    "pairwise sums have to be identical, since they cover the \n",
    "same set of edges.\n",
    "\n",
    "The Four Point Condition is the statement that the two \n",
    "largest values of the three pairwise distance sums are \n",
    "the same. \n",
    "\n",
    "    -- Based on an explanation from the book:\n",
    "        \"Computational Phylogenetics. An introduction \n",
    "        to designing methods for phylogeny estimation\"\n",
    "        by Tandy Warnow\n",
    "\"\"\"\n",
    "\n",
    "_fpc_permutations = [(0,1,2,3),\n",
    "                     (0,2,1,3),\n",
    "                     (0,3,1,2)]\n",
    "\n",
    "def fpc_sums(distances, quartet):\n",
    "    \"\"\"From a quartet of pairwise distances, return the\n",
    "    sums needed to check the four point condition.\n",
    "    \"\"\"\n",
    "    q = tuple(quartet)\n",
    "    # Map indices\n",
    "    permutations = [ tuple(q[i] for i in p)\n",
    "                        for p in _fpc_permutations ]\n",
    "    # Calculate the relevant pairwise sums\n",
    "    sums = { ((i,j), (k,l)): distances[i][j] + distances[k][l]\n",
    "                for i,j,k,l in permutations }\n",
    "    \n",
    "    return sums\n",
    "# ---\n",
    "\n",
    "def four_point_condition(dist_matrix, quartet, tolerance=1e-2):\n",
    "    \"\"\"The Four Point Condition is the statement that \n",
    "    the two largest values of the three pairwise \n",
    "    distance sums are the same. \n",
    "    \"\"\"\n",
    "    sums = list(fpc_sums(dist_matrix, quartet).values())\n",
    "    # Now, we must verify that the largest one \n",
    "    # is repeated\n",
    "    s_max = max(sums)\n",
    "    if sum( (s_max-s)**2 < tolerance for s in sums) < 2:\n",
    "        return False\n",
    "    return True\n",
    "# ---"
   ]
  },
  {
   "cell_type": "code",
   "execution_count": 13,
   "metadata": {},
   "outputs": [
    {
     "data": {
      "text/plain": [
       "DistanceMatrix([[ 0. ,  0.2,  3.8,  4. ,  4.8],\n",
       "                [ 0.2,  0. ,  3.6,  3.8,  4.6],\n",
       "                [ 3.8,  3.6,  0. ,  1.6,  2.5],\n",
       "                [ 4. ,  3.8,  1.6,  0. ,  1.2],\n",
       "                [ 4.8,  4.6,  2.5,  1.2,  0. ]], names=(3, 4, 5, 7, 8))"
      ]
     },
     "execution_count": 13,
     "metadata": {},
     "output_type": "execute_result"
    }
   ],
   "source": [
    "distances = cfn.distance_matrix()\n",
    "distances"
   ]
  },
  {
   "cell_type": "code",
   "execution_count": 14,
   "metadata": {},
   "outputs": [
    {
     "name": "stdout",
     "output_type": "stream",
     "text": [
      "Distance matrix is additive:  True\n",
      "Altered matrix is additive:  False\n"
     ]
    }
   ],
   "source": [
    "print(\"Distance matrix is additive: \", distances.is_additive())\n",
    "\n",
    "distances[2][3] += 1\n",
    "print(\"Altered matrix is additive: \", distances.is_additive())"
   ]
  },
  {
   "cell_type": "markdown",
   "metadata": {},
   "source": [
    "### The four point method"
   ]
  },
  {
   "cell_type": "code",
   "execution_count": 15,
   "metadata": {},
   "outputs": [],
   "source": [
    "# A test matrix to test the four-point method\n",
    "additive = DistanceMatrix([[0, 3,  6,  7],\n",
    "                           [3, 0,  7,  6],\n",
    "                           [6, 7,  0, 11],\n",
    "                           [7, 6, 11,  0]], names=['L1', 'L2', 'L3', 'L4'])"
   ]
  },
  {
   "cell_type": "code",
   "execution_count": 45,
   "metadata": {},
   "outputs": [
    {
     "name": "stdout",
     "output_type": "stream",
     "text": [
      "Overwriting phylogeny/reconstruction/allquartets.py\n"
     ]
    }
   ],
   "source": [
    "%%writefile phylogeny/reconstruction/allquartets.py\n",
    "\"\"\"\n",
    "All quartets method.\n",
    "\n",
    "Given an n×n additive matrix M with n ≥ 5 associated to a \n",
    "binary tree T with positive branch lengths, we can construct\n",
    "T using a two-step technique that we now describe. \n",
    "\n",
    "In Step 1, we compute a quartet tree on every four leaves by\n",
    "applying the Four Point Method to each 4×4 submatrix of M. \n",
    "\n",
    "In Step 2, we assemble the quartet trees into a tree on the\n",
    "full set of leaves. Step 1 is straightforward. The technique \n",
    "we use in Step 2 is called the “All Quartets Method”.\n",
    "\n",
    "\"\"\"\n",
    "\n",
    "import itertools as itr\n",
    "from ..core import Tree\n",
    "from ..core.fpc import fpc_sums\n",
    "\n",
    "\n",
    "def induced_quartet(dist_matrix, items=None):\n",
    "    \"\"\"Get the induced quartet ordering of 4 items.\"\"\"\n",
    "    # Preprocess arguments\n",
    "    if items is None:\n",
    "        items = range(4) # The first 4 elements\n",
    "    i = tuple(items)\n",
    "    \n",
    "    # Calculate the relevant pairwise sums\n",
    "    sums = fpc_sums(dist_matrix, i)\n",
    "    # Get the quartet with smallest sum\n",
    "    quartet = min(sums, key=lambda x:sums[x])\n",
    "    \n",
    "    return quartet\n",
    "# ---\n",
    "\n",
    "def map_names_to_quartet(quartet, names=None):\n",
    "    \"Map the names to the quartet's indices.\"\n",
    "    if names:\n",
    "        ((a,b),(c,d)) = quartet\n",
    "\n",
    "        return ((names[a],names[b]), (names[c],names[d]))\n",
    "    else:\n",
    "        return quartet\n",
    "# ---\n",
    "\n",
    "def four_point_method(additive, names=None):\n",
    "    \"\"\"Method for inferring a tree from a 4x4 additive matrix.\n",
    "    \n",
    "    If we are given a 4×4 additive matrix 'D' that \n",
    "    corresponds to a tree 'T' with positive branch weights, \n",
    "    then we can easily compute 'T' from 'D': We calculate \n",
    "    the three pairwise sums from the four point condition, \n",
    "    we determine which of the three pairwise sums is the \n",
    "    smallest, and use that one to define the split for the \n",
    "    four leaves into two sets of two leaves each.\n",
    "    \"\"\"\n",
    "    # Calculate the quartet inferred by the distances\n",
    "    quartet = induced_quartet(additive)\n",
    "    # Assemble the quartet into a tree structure\n",
    "    tree = Tree.from_quartet(quartet, names)\n",
    "    \n",
    "    return tree\n",
    "# ---\n",
    "\n",
    "def all_quartets(dist_matrix, names=None):\n",
    "    \"Get all inferred quartet subtrees.\"\n",
    "    n = len(dist_matrix)\n",
    "    quartets = itr.combinations(range(n), 4)\n",
    "    \n",
    "    return [map_names_to_quartet(induced_quartet(dist_matrix,q), \n",
    "                                 names)\n",
    "             for q in quartets]\n",
    "# ---\n",
    "\n",
    "def infer_siblings(quartets):\n",
    "    \"\"\"From the tree quartets, infer pairs of sibling leafs.\n",
    "    \n",
    "    We search for a pair x,y of leaves that is always \n",
    "    together in any quartet that contains both x and y. \n",
    "    (In other words, for all a,b, any quartet on {x,y,a,b} \n",
    "    is ((x,y),(a,b))). Any pair of leaves that are siblings \n",
    "    in the quartets tree T will satisfy this property.\n",
    "    \"\"\"\n",
    "    together = set()\n",
    "    separated = set()\n",
    "    \n",
    "    for q in quartets:\n",
    "        quartet = { frozenset(pair) for pair in q }\n",
    "\n",
    "        together |= quartet\n",
    "\n",
    "        ((a,b), (c,d)) = q\n",
    "        separated |= { frozenset(i) \n",
    "                          for i in [(a,c), (a,d), \n",
    "                                    (b,c), (b,d)] }\n",
    "\n",
    "    return [set(pair) for pair in together - separated]\n",
    "# ---\n",
    "\n",
    "def tree_from_quartets(quartets):\n",
    "    \"From the given quartets, assemble the tree.\"\n",
    "    if len(quartets) == 1:\n",
    "        q = quartets[0]\n",
    "        return Tree.from_quartet(q)\n",
    "    else:\n",
    "        # Fetch a pair of sibling leafs\n",
    "        a,b = list(infer_siblings(quartets).pop())\n",
    "            \n",
    "        new_quartets = [q for q in quartets if (a not in q[0]) and (a not in q[-1])]\n",
    "        \n",
    "        # Recourse in quartets \\ {a}\n",
    "        tree = all_quartets_method(new_quartets)\n",
    "        # Add a as sibling of b\n",
    "        tree.add_as_sibling(a,b)\n",
    "        return tree\n",
    "# ---\n",
    "\n",
    "def all_quartets_method(dist_matrix, names=None)\n",
    "    quartets = all_quartets(dist_matrix, names)\n",
    "    return tree_from_quartets(quartets)\n",
    "# ---"
   ]
  },
  {
   "cell_type": "code",
   "execution_count": 16,
   "metadata": {},
   "outputs": [
    {
     "name": "stdout",
     "output_type": "stream",
     "text": [
      "The matrix: \n",
      "[[ 0  3  6  7]\n",
      " [ 3  0  7  6]\n",
      " [ 6  7  0 11]\n",
      " [ 7  6 11  0]] is additive.\n",
      "\n",
      "The associated tree is: \n",
      "      /-L1\n",
      "   /-|\n",
      "  |   \\-L3\n",
      "--|\n",
      "  |   /-L2\n",
      "   \\-|\n",
      "      \\-L4\n"
     ]
    }
   ],
   "source": [
    "from phylogeny.reconstruction.allquartets import four_point_method\n",
    "\n",
    "if additive.is_additive():\n",
    "    print(f\"The matrix: \\n{additive} is additive.\\n\")\n",
    "    \n",
    "tree = four_point_method(additive, names=additive.names)\n",
    "print(f\"The associated tree is: {tree}\")"
   ]
  },
  {
   "cell_type": "code",
   "execution_count": 21,
   "metadata": {},
   "outputs": [
    {
     "data": {
      "text/plain": [
       "(('L1', 'L3'), ('L2', 'L4'))"
      ]
     },
     "execution_count": 21,
     "metadata": {},
     "output_type": "execute_result"
    }
   ],
   "source": [
    "import phylogeny.reconstruction.allquartets as quartets\n",
    "\n",
    "q = quartets.induced_quartet(additive)\n",
    "quartets.map_names_to_quartet(q, additive.names)"
   ]
  },
  {
   "cell_type": "markdown",
   "metadata": {},
   "source": [
    "### All quartets method"
   ]
  },
  {
   "cell_type": "code",
   "execution_count": 22,
   "metadata": {},
   "outputs": [
    {
     "data": {
      "text/plain": [
       "DistanceMatrix([[ 0. ,  0.2,  3.8,  4. ,  4.8],\n",
       "                [ 0.2,  0. ,  3.6,  3.8,  4.6],\n",
       "                [ 3.8,  3.6,  0. ,  1.6,  2.5],\n",
       "                [ 4. ,  3.8,  1.6,  0. ,  1.2],\n",
       "                [ 4.8,  4.6,  2.5,  1.2,  0. ]], names=(3, 4, 5, 7, 8))"
      ]
     },
     "execution_count": 22,
     "metadata": {},
     "output_type": "execute_result"
    }
   ],
   "source": [
    "d = cfn.distance_matrix()\n",
    "d"
   ]
  },
  {
   "cell_type": "code",
   "execution_count": 23,
   "metadata": {
    "scrolled": false
   },
   "outputs": [
    {
     "data": {
      "text/plain": [
       "[((3, 4), (5, 7)),\n",
       " ((3, 4), (5, 8)),\n",
       " ((3, 4), (7, 8)),\n",
       " ((3, 5), (7, 8)),\n",
       " ((4, 5), (7, 8))]"
      ]
     },
     "execution_count": 23,
     "metadata": {},
     "output_type": "execute_result"
    }
   ],
   "source": [
    "quartets.all_quartets(d, names=d.names)"
   ]
  },
  {
   "cell_type": "code",
   "execution_count": 25,
   "metadata": {},
   "outputs": [
    {
     "data": {
      "text/plain": [
       "[{3, 4}, {7, 8}]"
      ]
     },
     "execution_count": 25,
     "metadata": {},
     "output_type": "execute_result"
    }
   ],
   "source": [
    "q = quartets.all_quartets(d, names=d.names)\n",
    "\n",
    "quartets.infer_siblings(q)"
   ]
  },
  {
   "cell_type": "code",
   "execution_count": 44,
   "metadata": {
    "scrolled": true
   },
   "outputs": [
    {
     "ename": "TypeError",
     "evalue": "all_quartets_method() takes 1 positional argument but 2 were given",
     "output_type": "error",
     "traceback": [
      "\u001b[0;31m---------------------------------------------------------------------------\u001b[0m",
      "\u001b[0;31mTypeError\u001b[0m                                 Traceback (most recent call last)",
      "\u001b[0;32m<ipython-input-44-21b71d414a8a>\u001b[0m in \u001b[0;36m<module>\u001b[0;34m()\u001b[0m\n\u001b[1;32m      1\u001b[0m \u001b[0;32mfrom\u001b[0m \u001b[0mphylogeny\u001b[0m\u001b[0;34m.\u001b[0m\u001b[0mreconstruction\u001b[0m\u001b[0;34m.\u001b[0m\u001b[0mallquartets\u001b[0m \u001b[0;32mimport\u001b[0m \u001b[0mall_quartets_method\u001b[0m\u001b[0;34m\u001b[0m\u001b[0m\n\u001b[1;32m      2\u001b[0m \u001b[0;34m\u001b[0m\u001b[0m\n\u001b[0;32m----> 3\u001b[0;31m \u001b[0mt\u001b[0m \u001b[0;34m=\u001b[0m \u001b[0mall_quartets_method\u001b[0m\u001b[0;34m(\u001b[0m\u001b[0md\u001b[0m\u001b[0;34m,\u001b[0m \u001b[0md\u001b[0m\u001b[0;34m.\u001b[0m\u001b[0mnames\u001b[0m\u001b[0;34m)\u001b[0m\u001b[0;34m\u001b[0m\u001b[0m\n\u001b[0m\u001b[1;32m      4\u001b[0m \u001b[0mprint\u001b[0m\u001b[0;34m(\u001b[0m\u001b[0mt\u001b[0m\u001b[0;34m)\u001b[0m\u001b[0;34m\u001b[0m\u001b[0m\n\u001b[1;32m      5\u001b[0m \u001b[0mt\u001b[0m\u001b[0;34m.\u001b[0m\u001b[0mshow\u001b[0m\u001b[0;34m(\u001b[0m\u001b[0;34m'inline'\u001b[0m\u001b[0;34m)\u001b[0m\u001b[0;34m\u001b[0m\u001b[0m\n",
      "\u001b[0;31mTypeError\u001b[0m: all_quartets_method() takes 1 positional argument but 2 were given"
     ]
    }
   ],
   "source": [
    "from phylogeny.reconstruction.allquartets import all_quartets_method\n",
    "\n",
    "t = all_quartets_method(d, d.names)\n",
    "print(t)\n",
    "t.show('inline')"
   ]
  },
  {
   "cell_type": "code",
   "execution_count": 30,
   "metadata": {},
   "outputs": [
    {
     "data": {
      "image/png": "[encoded data removed]",
      "text/plain": [
       "<IPython.core.display.Image object>"
      ]
     },
     "execution_count": 30,
     "metadata": {},
     "output_type": "execute_result"
    }
   ],
   "source": [
    "cfn.show('inline')"
   ]
  },
  {
   "cell_type": "markdown",
   "metadata": {},
   "source": [
    "Looks good! Now, let's test how it performs with the distance matrix approximated from the sequences"
   ]
  },
  {
   "cell_type": "code",
   "execution_count": 32,
   "metadata": {},
   "outputs": [
    {
     "data": {
      "text/plain": [
       "DistanceMatrix([[     0.,  49696.,  50116.,  49886.,  50043.],\n",
       "                [ 49696.,      0.,  49888.,  50032.,  49981.],\n",
       "                [ 50116.,  49888.,      0.,  49930.,  50087.],\n",
       "                [ 49886.,  50032.,  49930.,      0.,  49781.],\n",
       "                [ 50043.,  49981.,  50087.,  49781.,      0.]], names=(3, 4, 5, 7, 8))"
      ]
     },
     "execution_count": 32,
     "metadata": {},
     "output_type": "execute_result"
    }
   ],
   "source": [
    "k = 100_000 # Sequence length\n",
    "sequences = cfn.evolve_traits([1]*k)\n",
    "distances = DistanceMatrix.from_sequences(sequences)\n",
    "distances"
   ]
  },
  {
   "cell_type": "code",
   "execution_count": 33,
   "metadata": {},
   "outputs": [
    {
     "data": {
      "text/plain": [
       "False"
      ]
     },
     "execution_count": 33,
     "metadata": {},
     "output_type": "execute_result"
    }
   ],
   "source": [
    "distances.is_additive()"
   ]
  },
  {
   "cell_type": "code",
   "execution_count": 34,
   "metadata": {},
   "outputs": [
    {
     "name": "stdout",
     "output_type": "stream",
     "text": [
      "The inferred tree: \n",
      "      /-3\n",
      "   /-|\n",
      "  |   \\-4\n",
      "--|\n",
      "  |   /-5\n",
      "   \\-|\n",
      "     |   /-8\n",
      "      \\-|\n",
      "         \\-7\n"
     ]
    },
    {
     "data": {
      "image/png": "[encoded data removed]",
      "text/plain": [
       "<IPython.core.display.Image object>"
      ]
     },
     "execution_count": 34,
     "metadata": {},
     "output_type": "execute_result"
    }
   ],
   "source": [
    "from phylogeny.reconstruction.allquartets import all_quartets, all_quartets_method\n",
    "\n",
    "quartets = all_quartets(distances, names=distances.names)\n",
    "\n",
    "tree = all_quartets_method(quartets)\n",
    "print(f\"The inferred tree: {tree}\")\n",
    "tree.show('inline')"
   ]
  },
  {
   "cell_type": "code",
   "execution_count": 35,
   "metadata": {},
   "outputs": [
    {
     "data": {
      "image/png": "[encoded data removed]",
      "text/plain": [
       "<IPython.core.display.Image object>"
      ]
     },
     "execution_count": 35,
     "metadata": {},
     "output_type": "execute_result"
    }
   ],
   "source": [
    "cfn.show('inline')"
   ]
  },
  {
   "cell_type": "markdown",
   "metadata": {},
   "source": [
    "As we can see, the raw distances look like a clocklike reconstruction of the real tree distances."
   ]
  },
  {
   "cell_type": "markdown",
   "metadata": {},
   "source": [
    "#### Treating the distances with the CFN distance correction"
   ]
  },
  {
   "cell_type": "code",
   "execution_count": 36,
   "metadata": {},
   "outputs": [],
   "source": [
    "cfn_corrected = -np.log(1-2*distances/(1.1*k)) / 2"
   ]
  },
  {
   "cell_type": "code",
   "execution_count": 38,
   "metadata": {},
   "outputs": [
    {
     "data": {
      "text/plain": [
       "True"
      ]
     },
     "execution_count": 38,
     "metadata": {},
     "output_type": "execute_result"
    }
   ],
   "source": [
    "cfn_corrected.is_additive()"
   ]
  },
  {
   "cell_type": "code",
   "execution_count": 39,
   "metadata": {},
   "outputs": [
    {
     "name": "stdout",
     "output_type": "stream",
     "text": [
      "The inferred tree: \n",
      "      /-3\n",
      "   /-|\n",
      "  |   \\-4\n",
      "--|\n",
      "  |   /-5\n",
      "   \\-|\n",
      "     |   /-8\n",
      "      \\-|\n",
      "         \\-7\n"
     ]
    },
    {
     "data": {
      "image/png": "[encoded data removed]",
      "text/plain": [
       "<IPython.core.display.Image object>"
      ]
     },
     "execution_count": 39,
     "metadata": {},
     "output_type": "execute_result"
    }
   ],
   "source": [
    "leaves = [l.name for l in cfn.get_leaves()]\n",
    "\n",
    "quartets = all_quartets(cfn_corrected, names=leaves)\n",
    "\n",
    "tree = all_quartets_method(quartets)\n",
    "print(f\"The inferred tree: {tree}\")\n",
    "tree.show('inline')"
   ]
  },
  {
   "cell_type": "code",
   "execution_count": 40,
   "metadata": {},
   "outputs": [
    {
     "data": {
      "image/png": "[encoded data removed]",
      "text/plain": [
       "<IPython.core.display.Image object>"
      ]
     },
     "execution_count": 40,
     "metadata": {},
     "output_type": "execute_result"
    }
   ],
   "source": [
    "cfn.show('inline')"
   ]
  },
  {
   "cell_type": "markdown",
   "metadata": {},
   "source": [
    "### Application to a cell system"
   ]
  },
  {
   "cell_type": "code",
   "execution_count": 42,
   "metadata": {},
   "outputs": [
    {
     "ename": "NameError",
     "evalue": "name 'cell_sequences' is not defined",
     "output_type": "error",
     "traceback": [
      "\u001b[0;31m---------------------------------------------------------------------------\u001b[0m",
      "\u001b[0;31mNameError\u001b[0m                                 Traceback (most recent call last)",
      "\u001b[0;32m<ipython-input-42-7b60a8427410>\u001b[0m in \u001b[0;36m<module>\u001b[0;34m()\u001b[0m\n\u001b[0;32m----> 1\u001b[0;31m \u001b[0mprint\u001b[0m\u001b[0;34m(\u001b[0m\u001b[0mcell_sequences\u001b[0m\u001b[0;34m)\u001b[0m\u001b[0;34m\u001b[0m\u001b[0m\n\u001b[0m\u001b[1;32m      2\u001b[0m \u001b[0;34m\u001b[0m\u001b[0m\n\u001b[1;32m      3\u001b[0m \u001b[0mm\u001b[0m \u001b[0;34m=\u001b[0m \u001b[0mDistanceMatrix\u001b[0m\u001b[0;34m.\u001b[0m\u001b[0mfrom_sequences\u001b[0m\u001b[0;34m(\u001b[0m\u001b[0mcell_sequences\u001b[0m\u001b[0;34m)\u001b[0m\u001b[0;34m\u001b[0m\u001b[0m\n\u001b[1;32m      4\u001b[0m \u001b[0mm\u001b[0m\u001b[0;34m\u001b[0m\u001b[0m\n",
      "\u001b[0;31mNameError\u001b[0m: name 'cell_sequences' is not defined"
     ]
    }
   ],
   "source": [
    "print(cell_sequences)\n",
    "\n",
    "m = DistanceMatrix.from_sequences(cell_sequences)    \n",
    "m"
   ]
  },
  {
   "cell_type": "code",
   "execution_count": 513,
   "metadata": {},
   "outputs": [
    {
     "data": {
      "text/plain": [
       "True"
      ]
     },
     "execution_count": 513,
     "metadata": {},
     "output_type": "execute_result"
    }
   ],
   "source": [
    "is_additive(m)"
   ]
  },
  {
   "cell_type": "code",
   "execution_count": 514,
   "metadata": {
    "scrolled": true
   },
   "outputs": [
    {
     "data": {
      "text/plain": [
       "[((30, 34), (31, 33)),\n",
       " ((30, 34), (31, 24)),\n",
       " ((30, 34), (31, 32)),\n",
       " ((30, 34), (31, 15)),\n",
       " ((30, 34), (33, 24)),\n",
       " ((30, 34), (33, 32)),\n",
       " ((30, 34), (33, 15)),\n",
       " ((30, 34), (24, 32)),\n",
       " ((30, 34), (24, 15)),\n",
       " ((30, 34), (32, 15)),\n",
       " ((30, 31), (33, 24)),\n",
       " ((30, 33), (31, 32)),\n",
       " ((30, 31), (33, 15)),\n",
       " ((30, 24), (31, 32)),\n",
       " ((30, 31), (24, 15)),\n",
       " ((30, 15), (31, 32)),\n",
       " ((30, 33), (24, 32)),\n",
       " ((30, 33), (24, 15)),\n",
       " ((30, 33), (32, 15)),\n",
       " ((30, 24), (32, 15)),\n",
       " ((34, 31), (33, 24)),\n",
       " ((34, 33), (31, 32)),\n",
       " ((34, 31), (33, 15)),\n",
       " ((34, 24), (31, 32)),\n",
       " ((34, 31), (24, 15)),\n",
       " ((34, 15), (31, 32)),\n",
       " ((34, 33), (24, 32)),\n",
       " ((34, 33), (24, 15)),\n",
       " ((34, 33), (32, 15)),\n",
       " ((34, 24), (32, 15)),\n",
       " ((31, 32), (33, 24)),\n",
       " ((31, 33), (24, 15)),\n",
       " ((31, 32), (33, 15)),\n",
       " ((31, 32), (24, 15)),\n",
       " ((33, 24), (32, 15))]"
      ]
     },
     "execution_count": 514,
     "metadata": {},
     "output_type": "execute_result"
    }
   ],
   "source": [
    "cell_q = all_quartets(m, names=list(cell_sequences.keys()))\n",
    "cell_q"
   ]
  },
  {
   "cell_type": "code",
   "execution_count": 515,
   "metadata": {},
   "outputs": [
    {
     "data": {
      "image/png": "[encoded data removed]",
      "text/plain": [
       "<IPython.core.display.Image object>"
      ]
     },
     "execution_count": 515,
     "metadata": {},
     "output_type": "execute_result"
    }
   ],
   "source": [
    "all_quartets_method(cell_q).show(\"inline\")"
   ]
  },
  {
   "cell_type": "code",
   "execution_count": 516,
   "metadata": {},
   "outputs": [
    {
     "data": {
      "image/png": "[encoded data removed]",
      "text/plain": [
       "<IPython.core.display.Image object>"
      ]
     },
     "execution_count": 516,
     "metadata": {},
     "output_type": "execute_result"
    }
   ],
   "source": [
    "# Look at the real ancestry tree\n",
    "t = system['log'].ancestry(prune_death=True)\n",
    "t.show(inline=True)"
   ]
  },
  {
   "cell_type": "code",
   "execution_count": 517,
   "metadata": {},
   "outputs": [
    {
     "data": {
      "text/plain": [
       "50"
      ]
     },
     "execution_count": 517,
     "metadata": {},
     "output_type": "execute_result"
    }
   ],
   "source": [
    "k = {len(seq) for seq in cell_sequences.values()}.pop()\n",
    "k"
   ]
  },
  {
   "cell_type": "code",
   "execution_count": 518,
   "metadata": {},
   "outputs": [
    {
     "data": {
      "text/plain": [
       "DistanceMatrix([[-0. , -0. ,  0. , -0. ,  0. ,  0. ,  0.1],\n",
       "                [-0. , -0. ,  0. , -0. ,  0. ,  0. ,  0.1],\n",
       "                [ 0. ,  0. , -0. ,  0. ,  0.1, -0. ,  0.1],\n",
       "                [-0. , -0. ,  0. , -0. ,  0. ,  0. ,  0.1],\n",
       "                [ 0. ,  0. ,  0.1,  0. , -0. ,  0.1,  0.2],\n",
       "                [ 0. ,  0. , -0. ,  0. ,  0.1, -0. ,  0.1],\n",
       "                [ 0.1,  0.1,  0.1,  0.1,  0.2,  0.1, -0. ]], names=None)"
      ]
     },
     "execution_count": 518,
     "metadata": {},
     "output_type": "execute_result"
    }
   ],
   "source": [
    "cell_corrected = -np.log(1-2*m/(1.1*k)) / 2\n",
    "cell_corrected"
   ]
  },
  {
   "cell_type": "code",
   "execution_count": 519,
   "metadata": {},
   "outputs": [
    {
     "data": {
      "text/plain": [
       "True"
      ]
     },
     "execution_count": 519,
     "metadata": {},
     "output_type": "execute_result"
    }
   ],
   "source": [
    "is_additive(cell_corrected)"
   ]
  },
  {
   "cell_type": "code",
   "execution_count": 520,
   "metadata": {},
   "outputs": [
    {
     "data": {
      "text/plain": [
       "[((30, 34), (31, 33)),\n",
       " ((30, 31), (34, 24)),\n",
       " ((30, 34), (31, 32)),\n",
       " ((30, 31), (34, 15)),\n",
       " ((30, 34), (33, 24)),\n",
       " ((30, 34), (33, 32)),\n",
       " ((30, 34), (33, 15)),\n",
       " ((30, 24), (34, 32)),\n",
       " ((30, 24), (34, 15)),\n",
       " ((30, 32), (34, 15)),\n",
       " ((30, 31), (33, 24)),\n",
       " ((30, 33), (31, 32)),\n",
       " ((30, 31), (33, 15)),\n",
       " ((30, 24), (31, 32)),\n",
       " ((30, 15), (31, 24)),\n",
       " ((30, 15), (31, 32)),\n",
       " ((30, 24), (33, 32)),\n",
       " ((30, 24), (33, 15)),\n",
       " ((30, 32), (33, 15)),\n",
       " ((30, 15), (24, 32)),\n",
       " ((34, 31), (33, 24)),\n",
       " ((34, 33), (31, 32)),\n",
       " ((34, 31), (33, 15)),\n",
       " ((34, 24), (31, 32)),\n",
       " ((34, 15), (31, 24)),\n",
       " ((34, 15), (31, 32)),\n",
       " ((34, 24), (33, 32)),\n",
       " ((34, 24), (33, 15)),\n",
       " ((34, 32), (33, 15)),\n",
       " ((34, 15), (24, 32)),\n",
       " ((31, 32), (33, 24)),\n",
       " ((31, 24), (33, 15)),\n",
       " ((31, 32), (33, 15)),\n",
       " ((31, 32), (24, 15)),\n",
       " ((33, 15), (24, 32))]"
      ]
     },
     "execution_count": 520,
     "metadata": {},
     "output_type": "execute_result"
    }
   ],
   "source": [
    "ccell_q = all_quartets(cell_corrected, names=list(cell_sequences.keys()))\n",
    "ccell_q"
   ]
  },
  {
   "cell_type": "code",
   "execution_count": 521,
   "metadata": {},
   "outputs": [
    {
     "data": {
      "image/png": "[encoded data removed]",
      "text/plain": [
       "<IPython.core.display.Image object>"
      ]
     },
     "execution_count": 521,
     "metadata": {},
     "output_type": "execute_result"
    }
   ],
   "source": [
    "all_quartets_method(ccell_q).show(\"inline\")"
   ]
  },
  {
   "cell_type": "code",
   "execution_count": null,
   "metadata": {},
   "outputs": [],
   "source": []
  }
 ],
 "metadata": {
  "kernelspec": {
   "display_name": "Python 3",
   "language": "python",
   "name": "python3"
  },
  "language_info": {
   "codemirror_mode": {
    "name": "ipython",
    "version": 3
   },
   "file_extension": ".py",
   "mimetype": "text/x-python",
   "name": "python",
   "nbconvert_exporter": "python",
   "pygments_lexer": "ipython3",
   "version": "3.6.1"
  }
 },
 "nbformat": 4,
 "nbformat_minor": 2
}
